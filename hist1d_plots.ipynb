{
 "cells": [
  {
   "cell_type": "code",
   "execution_count": 2,
   "metadata": {},
   "outputs": [],
   "source": [
    "from field_util import Field, CartCoord\n",
    "\n",
    "from astropy.cosmology import FlatLambdaCDM\n",
    "import astropy.units as u\n",
    "import astropy.coordinates as coord\n",
    "from astropy.coordinates.matrix_utilities import rotation_matrix\n",
    "import numpy as np\n",
    "from scipy import ndimage\n",
    "import copy\n",
    "from matplotlib.colors import LogNorm as LogNorm\n",
    "import matplotlib.pyplot as plt\n",
    "import matplotlib.patches as patches\n",
    "\n",
    "import pandas as pd\n",
    "import os\n",
    "\n",
    "from matplotlib.backends.backend_pdf import PdfPages"
   ]
  },
  {
   "cell_type": "code",
   "execution_count": 20,
   "metadata": {},
   "outputs": [],
   "source": [
    "import matplotlib as mpl\n",
    "\n",
    "mpl.rcParams['xtick.major.size'] = 5\n",
    "mpl.rcParams['xtick.major.width'] = 2\n",
    "mpl.rcParams['xtick.minor.size'] = 5\n",
    "mpl.rcParams['xtick.minor.width'] = 2\n",
    "mpl.rcParams['ytick.major.size'] = 5\n",
    "mpl.rcParams['ytick.major.width'] = 2\n",
    "mpl.rcParams['ytick.minor.size'] = 5\n",
    "mpl.rcParams['ytick.minor.width'] = 2\n",
    "mpl.rcParams['axes.linewidth'] = 2\n",
    "\n",
    "#cosmetics\n",
    "mpl.rc('text', usetex=True)\n",
    "\n",
    "plt.rcParams.update({\n",
    "    \"text.usetex\": True,\n",
    "    \"font.family\": \"serif\",\n",
    "    \"font.serif\": [\"Palatino\"],\n",
    "    \"font.size\": 23\n",
    "})"
   ]
  },
  {
   "cell_type": "code",
   "execution_count": 3,
   "metadata": {},
   "outputs": [],
   "source": [
    "cosmo = FlatLambdaCDM(H0=100* u.km / u.s / u.Mpc, Om0=0.315) # Metin original\n",
    "\n",
    "mycoord = CartCoord(150.14205192829834, 2.224237689411875, cosmo) # Used in Cosmic Birth\n",
    "x_0, y_0, z_0 = mycoord.orig_to_box(149.89, 2.07, 2.05)\n",
    "\n",
    "ra_min = 150.06\n",
    "ra_max = 150.09\n",
    "\n",
    "dec_mean = 2.30\n",
    "dec_min = 2.07\n",
    "dec_max = 2.50\n",
    "\n",
    "red_mean = 2.30\n",
    "red_min = 2.05\n",
    "red_max = 2.55\n",
    "\n",
    "x_min = 3750.*u.Mpc # x_0\n",
    "x_max = 3950.*u.Mpc #x_0 + 438.*u.Mpc\n",
    "\n",
    "z_min = z_0\n",
    "z_max = z_0 + 24.*u.Mpc"
   ]
  },
  {
   "cell_type": "code",
   "execution_count": 4,
   "metadata": {},
   "outputs": [
    {
     "data": {
      "text/latex": [
       "$3750 \\; \\mathrm{Mpc}$"
      ],
      "text/plain": [
       "<Quantity 3750. Mpc>"
      ]
     },
     "execution_count": 4,
     "metadata": {},
     "output_type": "execute_result"
    }
   ],
   "source": [
    "x_min"
   ]
  },
  {
   "cell_type": "code",
   "execution_count": 5,
   "metadata": {},
   "outputs": [],
   "source": [
    "cosmo = FlatLambdaCDM(H0=100* u.km / u.s / u.Mpc, Om0=0.315) # Metin original\n",
    "mycoord = CartCoord(150.14205192829834, 2.224237689411875, cosmo) # Used in Cosmic Birth\n",
    "\n",
    "data_path = '../Data/'\n",
    "plot_path = '../Plot/'"
   ]
  },
  {
   "cell_type": "code",
   "execution_count": 6,
   "metadata": {},
   "outputs": [],
   "source": [
    "R_sm = 4 * u.Mpc\n",
    "\n",
    "# CLAMATO density field\n",
    "clamato_path = '../Data/CLAMATO/map_2020_v0.bin'\n",
    "delta_clm = np.fromfile(clamato_path, dtype='double').reshape(68, 56, 876).transpose(2, 0, 1)\n",
    "delta_clm = delta_clm[::1,::-1,::1] \n",
    "# this reversal is due to the coordinate in clamato is \n",
    "#    x - ra     y - dec\n",
    "#    0 - 149.89 0 - 2.07\n",
    "#    68 - 150.4 56 - 2.50  \n",
    "# consistent with https://github.com/kheegan/preheating2019\n",
    "x_0, y_0, z_0 = mycoord.orig_to_box(149.89, 2.07, 2.05)\n",
    "CLAMATO_field = Field(x_0, y_0-34*u.Mpc, z_0, 0.5*u.Mpc, delta_clm)\n",
    "res = CLAMATO_field.smooth(R_sm)\n",
    "\n",
    "\n",
    "# CLAMATO galaxies\n",
    "clamato_gal = '../Data/CLAMATO/list_tomo_input_2020_mod.txt'\n",
    "clm_gal_list = pd.read_csv(clamato_gal, sep = '\\t', header = 0)\n",
    "\n",
    "delta_F_2980_WF = np.fromfile(data_path + \"rec_field_sim/pixel_data_RUN11_2980_1_true_SNR.bin_map.bin\").reshape(68, 56, 876).transpose(2, 0, 1)[::1, ::-1, ::1]\n",
    "delta_F_field_WF =Field(x_0, y_0-34*u.Mpc, z_0, 0.5*u.Mpc, delta_F_2980_WF)\n",
    "res = delta_F_field_WF.smooth(R_sm)"
   ]
  },
  {
   "cell_type": "code",
   "execution_count": 7,
   "metadata": {},
   "outputs": [
    {
     "data": {
      "text/plain": [
       "(<Quantity 3629.17159402 Mpc>,\n",
       " <Quantity 15.95496184 Mpc>,\n",
       " <Quantity -9.76832445 Mpc>)"
      ]
     },
     "execution_count": 7,
     "metadata": {},
     "output_type": "execute_result"
    }
   ],
   "source": [
    "x_0, y_0, z_0"
   ]
  },
  {
   "cell_type": "code",
   "execution_count": 8,
   "metadata": {},
   "outputs": [],
   "source": [
    "# reconstruction\n",
    "# delta_rec_mock = np.fromfile(data_path+\"rec_field_sim/pixel_data_RUN11_2980_3_true_SNR.bin_map.bin\", dtype='double').reshape(68, 56, 876).transpose(2, 0, 1)\n",
    "# delta_rec_mock = delta_rec_mock[::1,::-1,::1]\n",
    "\n",
    "\n",
    "try:\n",
    "    delta_mock_list = [np.fromfile(data_path+\"rec_field_sim/\"+fn, dtype='double').reshape(68, 56, 876).transpose(2, 0, 1)[::1, ::-1, ::1]\n",
    "                        for fn in os.listdir(data_path+\"rec_field_sim/\") if fn[-3:] == 'bin']\n",
    "except:\n",
    "    print(fn)\n",
    "\n",
    "delta_rec_mock = np.mean(np.array(delta_mock_list), axis = 0)\n",
    "rec_field_mean = Field(x_0, y_0-34*u.Mpc, z_0, 0.5*u.Mpc, delta_rec_mock)\n",
    "# res = rec_field.smooth_tophat_fft(R_tophat)\n",
    "res = rec_field_mean.smooth(R_sm)\n",
    "\n",
    "\n",
    "x0, y0, z0 = 3550*u.Mpc, -50*u.Mpc, -50*u.Mpc\n",
    "dl = 2*u.Mpc\n",
    "\n",
    "# matter\n",
    "dens_m_2980 = np.load(data_path+\"lores/RUN11_2980_256.00103lowres_density.npy\")[:, ::-1, :]\n",
    "opdelta_m_2980 = dens_m_2980 / np.mean(dens_m_2980)\n",
    "opdelta_m_field = Field(x0, y0, z0, dl, opdelta_m_2980)\n",
    "# res = opdelta_m_field.smooth_tophat_fft(R_tophat) # 1 + delta_m\n",
    "res = opdelta_m_field.smooth(R_sm) # 1 + delta_m\n",
    "\n",
    "# FGPA + RSD\n",
    "tau_2980 = np.load(data_path+\"lores/RUN11_2980_256.00103lowres_tau.npy\")[:, ::-1, :]\n",
    "F_2980 = np.exp(-tau_2980)\n",
    "delta_F_2980 = F_2980 / np.mean(F_2980) - 1\n",
    "delta_F_field = Field(x0, y0, z0, dl, delta_F_2980)\n",
    "# res = delta_F_field.smooth_tophat_fft(R_tophat)\n",
    "res = delta_F_field.smooth(R_sm)\n",
    "\n",
    "# WF 2980\n"
   ]
  },
  {
   "cell_type": "code",
   "execution_count": 59,
   "metadata": {},
   "outputs": [],
   "source": [
    "RA, DE, red = 150.110, 2.161, 2.298\n",
    "x_o, y_o, z_o = 1.0*u.Mpc, 0.0*u.Mpc, 244.5*u.Mpc\n",
    "x_n, y_n, z_n = mycoord.orig_to_box(RA, DE, red)"
   ]
  },
  {
   "cell_type": "code",
   "execution_count": 11,
   "metadata": {},
   "outputs": [
    {
     "data": {
      "image/png": "[encoded data removed]",
      "text/plain": [
       "<Figure size 720x576 with 1 Axes>"
      ]
     },
     "metadata": {
      "needs_background": "light"
     },
     "output_type": "display_data"
    }
   ],
   "source": [
    "# plt.hist(, density = True, range = (-1, 1), histtype='step', color = )\n",
    "# no smooth (raw output)\n",
    "pdf_pages = PdfPages('Global_Hist.pdf')\n",
    "\n",
    "fig = plt.figure(figsize=(10, 8))\n",
    "plt.hist([delta_clm.flatten(), ], density = True, range = (-1, 1), histtype='step', label = ['CLAMATO'], bins = 100)\n",
    "plt.hist(delta_mock_list[0].flatten(), density = True, range = (-1, 1), histtype='step',  color = 'darkorange', bins = 100, label = \"COSTCO-FGPA\")\n",
    "[plt.hist(field_data.flatten(), density = True, range = (-1, 1), histtype='step',  color = 'darkorange', bins = 100) for field_data in delta_mock_list[1:]]\n",
    "plt.yscale('log')\n",
    "plt.legend()\n",
    "plt.xlabel(\"$\\\\delta_F^{\\mathrm{w}}$\")\n",
    "plt.ylabel(\"Normalized PDF\")\n",
    "plt.ylim(10**-3, 10)\n",
    "\n",
    "pdf_pages.savefig(fig, pad_inches = 0)\n",
    "pdf_pages.close()\n"
   ]
  },
  {
   "cell_type": "code",
   "execution_count": null,
   "metadata": {},
   "outputs": [],
   "source": []
  }
 ],
 "metadata": {
  "kernelspec": {
   "display_name": "Python 3.8.13 ('astro')",
   "language": "python",
   "name": "python3"
  },
  "language_info": {
   "codemirror_mode": {
    "name": "ipython",
    "version": 3
   },
   "file_extension": ".py",
   "mimetype": "text/x-python",
   "name": "python",
   "nbconvert_exporter": "python",
   "pygments_lexer": "ipython3",
   "version": "3.8.13 (default, Mar 28 2022, 06:13:39) \n[Clang 12.0.0 ]"
  },
  "orig_nbformat": 4,
  "vscode": {
   "interpreter": {
    "hash": "3c5d1a8b75d58d5e3ad3ca5e74b657d0adecc3dcb1e754f69c7a60102c99952b"
   }
  }
 },
 "nbformat": 4,
 "nbformat_minor": 2
}
