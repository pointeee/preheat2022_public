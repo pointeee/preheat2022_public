{
 "cells": [
  {
   "cell_type": "code",
   "execution_count": 2,
   "metadata": {},
   "outputs": [],
   "source": [
    "import numpy as np\n",
    "import pandas as pd\n",
    "from matplotlib import pyplot as plt\n",
    "from matplotlib import patches\n",
    "\n",
    "from field_util import Field, CartCoord\n",
    "from astropy.cosmology import FlatLambdaCDM\n",
    "from astropy.constants import c\n",
    "import astropy.units as u"
   ]
  },
  {
   "cell_type": "code",
   "execution_count": null,
   "metadata": {},
   "outputs": [],
   "source": [
    "with open(\"../Catalogs/all_specz_DM_v1.dat\") as f:\n",
    "    lines = f.readlines()\n",
    "    headers = lines[0].split()\n",
    "    data = []\n",
    "    for line in lines[1:]:\n",
    "        entry = line.split()\n",
    "        data.append(entry)\n",
    "gal_df = pd.DataFrame(data, columns = headers)\n",
    "gal_df['RA'] = gal_df['RA'].astype(float)\n",
    "gal_df['Dec'] = gal_df['Dec'].astype(float)\n",
    "gal_df['zspec'] = gal_df['zspec'].astype(float)"
   ]
  },
  {
   "cell_type": "code",
   "execution_count": null,
   "metadata": {},
   "outputs": [],
   "source": [
    "cosmo = FlatLambdaCDM(H0=100* u.km / u.s / u.Mpc, Om0=0.315) # Metin original\n",
    "mycoord = CartCoord(150.14205192829834, 2.224237689411875, cosmo) # Used in Cosmic Birth"
   ]
  },
  {
   "cell_type": "code",
   "execution_count": null,
   "metadata": {},
   "outputs": [],
   "source": [
    "x, y, z = mycoord.orig_to_box(gal_df['RA'], gal_df['Dec'], gal_df['zspec'])\n",
    "x_pc, y_pc, z_pc = mycoord.orig_to_box(150.11, 2.161, 2.298)"
   ]
  },
  {
   "attachments": {},
   "cell_type": "markdown",
   "metadata": {},
   "source": [
    "gal_df['trans_dist'] = (np.sqrt((y - y_pc)**2 + (z - z_pc)**2)).value\n",
    "gal_df['LOSV_diff'] = (gal_df['zspec'] - 2.298) * 3 * 1E5\n",
    "gal_df['x'] = x.value\n",
    "gal_df['y'] = y.value\n",
    "gal_df['z'] = z.value"
   ]
  },
  {
   "cell_type": "code",
   "execution_count": null,
   "metadata": {},
   "outputs": [],
   "source": [
    "# transverse plane: R < 4 Mpc/h\n",
    "a = gal_df['trans_dist'] < 6\n",
    "# LOS: vel diff < 600 km/s\n",
    "b = np.abs(gal_df['LOSV_diff']) < 500\n",
    "gal_member = gal_df[a&b]"
   ]
  },
  {
   "cell_type": "code",
   "execution_count": null,
   "metadata": {},
   "outputs": [],
   "source": [
    "# iteratively find the center of pc\n",
    "# inital guess\n",
    "RA = 150.11\n",
    "DE = 2.161\n",
    "red = 2.298\n",
    "\n",
    "# loop\n",
    "x_pc, y_pc, z_pc = mycoord.orig_to_box(RA, DE, red)\n",
    "\n",
    "for _ in range(100):\n",
    "\n",
    "    gal_df['trans_dist'] = (np.sqrt((gal_df['y'] - y_pc)**2 + (gal_df['z']  - z_pc)**2))\n",
    "    gal_df['LOSV_diff'] = (gal_df['zspec'] - red) * 3 * 1E5\n",
    "    \n",
    "    a = gal_df['trans_dist'] < 6\n",
    "    # LOS: vel diff < 500 km/s\n",
    "    b = np.abs(gal_df['LOSV_diff']) < 600\n",
    "\n",
    "    gal_member = gal_df[a&b]\n",
    "    x_pc = np.median(gal_member['x'])\n",
    "    y_pc = np.median(gal_member['y'])\n",
    "    z_pc = np.median(gal_member['z'])\n",
    "    skycoord = mycoord.original_pos(x_pc, y_pc, z_pc)\n",
    "    red = skycoord.distance.value\n",
    "    print(x_pc, y_pc, z_pc, red, len(gal_member))"
   ]
  },
  {
   "cell_type": "code",
   "execution_count": null,
   "metadata": {},
   "outputs": [],
   "source": [
    "from astropy.constants import G, M_sun\n",
    "from astropy import units as u\n",
    "import numpy as np\n",
    "\n",
    "# estimate virial mass with NMAD and original method in the galaxy cluster paper.\n",
    "def NMAD(data):\n",
    "    # calculate NMAD\n",
    "    # NMAD = 1.4826 * MAD\n",
    "    # MAD = median(data - median(data))\n",
    "    MAD = np.median(np.abs(data - np.median(data)))\n",
    "    return 1.4826 * MAD\n",
    "\n",
    "def Virial_Mass_NMAD(y_data, z_data, y_center, z_center, LOSV):\n",
    "    V_est = NMAD(LOSV)\n",
    "    R_list = np.sqrt((y_data - y_center)**2 + (z_data - z_center)**2)\n",
    "    R_est = NMAD(R_list[R_list!=0])\n",
    "\n",
    "    Mass_est = 3*np.pi/2*R_est*u.Mpc * (V_est*u.km/u.s)**2 / G / M_sun\n",
    "    return Mass_est+0\n",
    "\n",
    "def Virial_Mass_Girardi(gal_y, gal_z, gal_red):\n",
    "    s = len(gal_y)\n",
    "    gal_vel = gal_red * 3E5\n",
    "    y_mat = np.array(np.repeat(gal_y, s)).reshape(s, s)\n",
    "    z_mat = np.array(np.repeat(gal_z, s)).reshape(s, s)\n",
    "    dist_mat = ((y_mat - y_mat.T)**2 + (z_mat - z_mat.T)**2)**(.5)\n",
    "    R_PV = s*(s-1)/np.triu(dist_mat**-1, k=1).sum()\n",
    "    sigma_P = np.sum((gal_vel - np.mean(gal_vel))**2 / (s-1))**.5\n",
    "    M_viral = 3*np.pi/2 * (sigma_P*u.km/u.s)**2 * R_PV*u.Mpc  / G / M_sun+0\n",
    "    return R_PV, sigma_P, M_viral"
   ]
  },
  {
   "cell_type": "code",
   "execution_count": null,
   "metadata": {},
   "outputs": [],
   "source": [
    "# call this function to get result \n",
    "Virial_Mass_Girardi(gal_member['y_pro'], gal_member['z_pro'], gal_member['zspec'])\n",
    "\n",
    "# in our case it is\n",
    "# (0.40363864265716043, 361.4098555087836, <Quantity 5.77660621e+13>)"
   ]
  },
  {
   "cell_type": "code",
   "execution_count": null,
   "metadata": {},
   "outputs": [],
   "source": [
    "# further calculate M200\n",
    "from colossus.halo import mass_so\n",
    "mass_so.M_to_R(5.78e13, 2.3, '200m')\n",
    "# 281.20024764902956"
   ]
  }
 ],
 "metadata": {
  "kernelspec": {
   "display_name": "astro",
   "language": "python",
   "name": "python3"
  },
  "language_info": {
   "codemirror_mode": {
    "name": "ipython",
    "version": 3
   },
   "file_extension": ".py",
   "mimetype": "text/x-python",
   "name": "python",
   "nbconvert_exporter": "python",
   "pygments_lexer": "ipython3",
   "version": "3.8.13 (default, Mar 28 2022, 06:13:39) \n[Clang 12.0.0 ]"
  },
  "orig_nbformat": 4,
  "vscode": {
   "interpreter": {
    "hash": "3c5d1a8b75d58d5e3ad3ca5e74b657d0adecc3dcb1e754f69c7a60102c99952b"
   }
  }
 },
 "nbformat": 4,
 "nbformat_minor": 2
}
