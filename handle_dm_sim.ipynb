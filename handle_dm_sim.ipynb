{
 "cells": [
  {
   "attachments": {},
   "cell_type": "markdown",
   "metadata": {},
   "source": [
    "Note the following code requires one to install flowpm (based on tensorflow), so I cannot test it locally."
   ]
  },
  {
   "cell_type": "code",
   "execution_count": null,
   "metadata": {},
   "outputs": [],
   "source": [
    "import numpy as np\n",
    "\n",
    "import scipy\n",
    "from scipy import ndimage\n",
    "\n",
    "import pandas as pd\n",
    "\n",
    "import matplotlib.pyplot as plt\n",
    "from matplotlib.colors import LogNorm as LogNorm\n",
    "from matplotlib.backends.backend_pdf import PdfPages\n",
    "\n",
    "from astropy.cosmology import FlatLambdaCDM\n",
    "import astropy.units as u\n",
    "import astropy.coordinates as coord\n",
    "from astropy.coordinates.matrix_utilities import rotation_matrix\n",
    "from astropy.constants import M_sun\n",
    "\n",
    "import pandas as pd\n",
    "\n",
    "from flowpm import utils as ut\n",
    "import tensorflow as tf\n",
    "\n",
    "import time\n",
    "import copy\n",
    "import os\n",
    "\n",
    "from field_util import Field\n",
    "from FGPA import FGPA"
   ]
  },
  {
   "cell_type": "code",
   "execution_count": null,
   "metadata": {},
   "outputs": [],
   "source": [
    "! wget \"https://zenodo.org/record/6425013/files/RUN11_2980_256.00103\"\n",
    "! mkdir data\n",
    "! mkdir data/COSTCO\n",
    "! mv RUN11_2980_256.00103 ./data/COSTCO/"
   ]
  },
  {
   "cell_type": "code",
   "execution_count": null,
   "metadata": {},
   "outputs": [],
   "source": [
    "rcs = [3550*u.Mpc, -50*u.Mpc, -50*u.Mpc]\n",
    "rce = [4062*u.Mpc,  50*u.Mpc,  50*u.Mpc]\n",
    "dl = 2*u.Mpc"
   ]
  },
  {
   "cell_type": "code",
   "execution_count": null,
   "metadata": {},
   "outputs": [],
   "source": [
    "fn = \"./data/COSTCO/RUN11_2980_256.00103\"\n",
    "F = FGPA(fn)\n",
    "field_density = F.particle_paint_clip_with_real_coord(rcs, rce, dl)\n",
    "np.save('./data/COSTCO/2980_2Mpc_den.npy', field_density.field_data)\n",
    "field_tau = F.tau_map(rcs, rce, dl, F_obs = 0.8447)\n",
    "np.save('./data/COSTCO/2980_2Mpc_tau.npy', field_tau.field_data)"
   ]
  }
 ],
 "metadata": {
  "kernelspec": {
   "display_name": "astro",
   "language": "python",
   "name": "python3"
  },
  "language_info": {
   "codemirror_mode": {
    "name": "ipython",
    "version": 3
   },
   "file_extension": ".py",
   "mimetype": "text/x-python",
   "name": "python",
   "nbconvert_exporter": "python",
   "pygments_lexer": "ipython3",
   "version": "3.8.13 (default, Mar 28 2022, 06:13:39) \n[Clang 12.0.0 ]"
  },
  "orig_nbformat": 4,
  "vscode": {
   "interpreter": {
    "hash": "3c5d1a8b75d58d5e3ad3ca5e74b657d0adecc3dcb1e754f69c7a60102c99952b"
   }
  }
 },
 "nbformat": 4,
 "nbformat_minor": 2
}
