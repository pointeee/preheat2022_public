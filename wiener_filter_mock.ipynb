{
 "cells": [
  {
   "attachments": {},
   "cell_type": "markdown",
   "metadata": {},
   "source": [
    "This jupyter notebook assume you compile the dachshund in your machine."
   ]
  },
  {
   "cell_type": "code",
   "execution_count": 1,
   "metadata": {},
   "outputs": [],
   "source": [
    "import os\n",
    "import numpy as np"
   ]
  },
  {
   "cell_type": "code",
   "execution_count": null,
   "metadata": {},
   "outputs": [],
   "source": [
    "mock_pix_list = [fn for fn in os.listdir() if fn[-6:]=='er.bin']\n",
    "\n",
    "for fn in mock_pix_list:\n",
    "    with open(fn,'r') as f:\n",
    "        # npix = np.fromfile(f, dtype=np.int32, count=1)[0] \n",
    "        pixel_data = np.fromfile(f,dtype=np.float64)\n",
    "        pixel_data = pixel_data.reshape(len(pixel_data)//5,5)\n",
    "        print(np.isnan(pixel_data).sum())\n",
    "        print(pixel_data.shape)\n",
    "\n",
    "    pixel_data.tofile(\"pixel_data.bin\")\n",
    "    \n",
    "    os.system('dachshund input.cfg')\n",
    "    os.system('mv map.bin {}_map.bin'.format(fn))"
   ]
  }
 ],
 "metadata": {
  "kernelspec": {
   "display_name": "astro",
   "language": "python",
   "name": "python3"
  },
  "language_info": {
   "codemirror_mode": {
    "name": "ipython",
    "version": 3
   },
   "file_extension": ".py",
   "mimetype": "text/x-python",
   "name": "python",
   "nbconvert_exporter": "python",
   "pygments_lexer": "ipython3",
   "version": "3.8.13 (default, Mar 28 2022, 06:13:39) \n[Clang 12.0.0 ]"
  },
  "orig_nbformat": 4,
  "vscode": {
   "interpreter": {
    "hash": "3c5d1a8b75d58d5e3ad3ca5e74b657d0adecc3dcb1e754f69c7a60102c99952b"
   }
  }
 },
 "nbformat": 4,
 "nbformat_minor": 2
}
