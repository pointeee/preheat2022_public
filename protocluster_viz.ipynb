{
 "cells": [
  {
   "cell_type": "code",
   "execution_count": 1,
   "metadata": {},
   "outputs": [],
   "source": [
    "# todo\n",
    "# generate an interactive plot for our pc"
   ]
  },
  {
   "cell_type": "code",
   "execution_count": 1,
   "metadata": {},
   "outputs": [],
   "source": [
    "from field_util import Field, CartCoord\n",
    "from vis_util import texture_opacity\n",
    "\n",
    "from astropy.cosmology import FlatLambdaCDM\n",
    "import astropy.units as u\n",
    "import astropy.coordinates as coord\n",
    "from astropy.coordinates.matrix_utilities import rotation_matrix\n",
    "import numpy as np\n",
    "from scipy import ndimage\n",
    "import copy\n",
    "from matplotlib.colors import LogNorm as LogNorm\n",
    "import matplotlib.pyplot as plt\n",
    "import matplotlib.patches as patches\n",
    "\n",
    "import pandas as pd\n",
    "import os\n",
    "\n",
    "from matplotlib.backends.backend_pdf import PdfPages"
   ]
  },
  {
   "cell_type": "code",
   "execution_count": 2,
   "metadata": {},
   "outputs": [],
   "source": [
    "cosmo = FlatLambdaCDM(H0=100* u.km / u.s / u.Mpc, Om0=0.315) # Metin original\n",
    "mycoord = CartCoord(150.14205192829834, 2.224237689411875, cosmo) # Used in Cosmic Birth"
   ]
  },
  {
   "cell_type": "code",
   "execution_count": 3,
   "metadata": {},
   "outputs": [
    {
     "data": {
      "text/plain": [
       "FlatLambdaCDM(H0=100.0 km / (Mpc s), Om0=0.315, Tcmb0=0.0 K, Neff=3.04, m_nu=None, Ob0=None)"
      ]
     },
     "execution_count": 3,
     "metadata": {},
     "output_type": "execute_result"
    }
   ],
   "source": [
    "cosmo"
   ]
  },
  {
   "cell_type": "code",
   "execution_count": 4,
   "metadata": {},
   "outputs": [],
   "source": [
    "import numpy as np\n",
    "from mayavi import mlab\n",
    "\n",
    "#viz_type = 'png'  # 'png' or 'x3d' or 'ipy'\n",
    "#mlab.init_notebook('png')\n",
    "#mlab.init_notebook(viz_type)\n",
    "\n"
   ]
  },
  {
   "cell_type": "code",
   "execution_count": 5,
   "metadata": {},
   "outputs": [],
   "source": [
    "R_smooth = 4 * u.Mpc\n",
    "\n",
    "# clamato\n",
    "clamato_path = '../Data/CLAMATO/map_2020_v0.bin'\n",
    "delta_clm_real = np.fromfile(clamato_path, dtype='double').reshape(68, 56, 876).transpose(2, 0, 1)\n",
    "delta_clm_real = delta_clm_real[::1,::-1,::1] \n",
    "# this reversal is due to the coordinate in clamato is \n",
    "#    x - ra     y - dec\n",
    "#    0 - 149.89 0 - 2.07\n",
    "#    68 - 150.4 56 - 2.50  \n",
    "# consistent with https://github.com/kheegan/preheating2019\n",
    "x_0, y_0, z_0= mycoord.orig_to_box(149.89, 2.07, 2.05)\n",
    "CLAMATO_field = Field(x_0, y_0-34*u.Mpc, z_0, 0.5*u.Mpc, delta_clm_real)\n",
    "res = CLAMATO_field.smooth(R_smooth)"
   ]
  },
  {
   "cell_type": "code",
   "execution_count": 6,
   "metadata": {},
   "outputs": [
    {
     "data": {
      "text/plain": [
       "FlatLambdaCDM(H0=100.0 km / (Mpc s), Om0=0.315, Tcmb0=0.0 K, Neff=3.04, m_nu=None, Ob0=None)"
      ]
     },
     "execution_count": 6,
     "metadata": {},
     "output_type": "execute_result"
    }
   ],
   "source": [
    "_"
   ]
  },
  {
   "cell_type": "code",
   "execution_count": 28,
   "metadata": {},
   "outputs": [
    {
     "name": "stderr",
     "output_type": "stream",
     "text": [
      "/Users/dongcz/Work/COSMOS_Preheating/Code/field_util.py:37: UserWarning: Warning: Index out of boundary\n",
      "  warnings.warn(\"Warning: Index out of boundary\")\n"
     ]
    }
   ],
   "source": [
    "red_min = 2.178\n",
    "red_max = 2.409\n",
    "ra_min = 149.89\n",
    "ra_max = 150.40\n",
    "\n",
    "dec_min = 2.07\n",
    "dec_max = 2.50\n",
    "\n",
    "red_mean = 2.30\n",
    "ra_mean = 150.15\n",
    "dec_mean = 2.30\n",
    "\n",
    "x_mean = 3855*u.Mpc\n",
    "y_mean = 0*u.Mpc\n",
    "z_mean = 0*u.Mpc\n",
    "\n",
    "_, y_min, z_min = mycoord.orig_to_box(ra_max, dec_min, 2.300) # Note y axis is reversed\n",
    "_, y_max, z_max = mycoord.orig_to_box(ra_min, dec_max, 2.300) # Note y axis is reversed\n",
    "\n"
   ]
  },
  {
   "cell_type": "code",
   "execution_count": 16,
   "metadata": {},
   "outputs": [],
   "source": [
    "skewer = pd.read_csv(\"../Catalogs/CLAMATO_skewer.csv\")\n",
    "sightline = pd.read_csv(\"../Catalogs/list_tomo_input_2020_mod.txt\", sep = '\\t')"
   ]
  },
  {
   "cell_type": "code",
   "execution_count": null,
   "metadata": {},
   "outputs": [],
   "source": []
  },
  {
   "cell_type": "code",
   "execution_count": 17,
   "metadata": {},
   "outputs": [],
   "source": [
    "with open(\"../Catalogs/all_specz_DM_v1.dat\") as f:\n",
    "    lines = f.readlines()\n",
    "    headers = lines[0].split()\n",
    "    data = []\n",
    "    for line in lines[1:]:\n",
    "        entry = line.split()\n",
    "        data.append(entry)\n",
    "gal_df = pd.DataFrame(data, columns = headers)\n",
    "gal_df['RA'] = gal_df['RA'].astype(float)\n",
    "gal_df['Dec'] = gal_df['Dec'].astype(float)\n",
    "gal_df['zspec'] = gal_df['zspec'].astype(float)\n",
    "\n",
    "x, y, z = mycoord.orig_to_box(gal_df['RA'], gal_df['Dec'], gal_df['zspec'])\n",
    "\n",
    "gal_df['x'] = x.value\n",
    "gal_df['y'] = y.value\n",
    "gal_df['z'] = z.value\n",
    "\n",
    "gal_df_ = gal_df\n",
    "gal_df_ = gal_df_[(gal_df_['x'] > x_min) & (gal_df_['x'] < x_max)]\n",
    "gal_df_ = gal_df_[(gal_df_['y'] > y_min) & (gal_df_['y'] < y_max)]\n",
    "gal_df_ = gal_df_[(gal_df_['z'] > z_min) & (gal_df_['z'] < z_max)]"
   ]
  },
  {
   "cell_type": "code",
   "execution_count": null,
   "metadata": {},
   "outputs": [],
   "source": []
  },
  {
   "cell_type": "code",
   "execution_count": 82,
   "metadata": {},
   "outputs": [],
   "source": [
    "gal_mem = pd.read_csv(\"../Catalogs/COSTCO_I_iter.csv\")"
   ]
  },
  {
   "cell_type": "code",
   "execution_count": 83,
   "metadata": {},
   "outputs": [
    {
     "name": "stderr",
     "output_type": "stream",
     "text": [
      "/Users/dongcz/Work/COSMOS_Preheating/Code/field_util.py:37: UserWarning: Warning: Index out of boundary\n",
      "  warnings.warn(\"Warning: Index out of boundary\")\n"
     ]
    }
   ],
   "source": [
    "# for interactive\n",
    "x_min, x_max = 3810*u.Mpc, 3900*u.Mpc\n",
    "\n",
    "clamato_plot = CLAMATO_field.clip_with_coord([x_min, y_min, z_min], [x_max, y_max, z_max])"
   ]
  },
  {
   "cell_type": "code",
   "execution_count": 84,
   "metadata": {},
   "outputs": [
    {
     "name": "stdout",
     "output_type": "stream",
     "text": [
      "Notebook initialized with x3d backend.\n"
     ]
    }
   ],
   "source": [
    "from mayavi import mlab\n",
    "\n",
    "mlab.clf()\n",
    "\n",
    "viz_type = 'x3d'  # 'png' or 'x3d' or 'ipy'\n",
    "#mlab.init_notebook('png')\n",
    "mlab.init_notebook(viz_type, local=False)\n",
    "\n",
    "#cont3d = mlab.contour3d(clamato_plot.field_data, opacity = 0.3, colormap = \"jet\", vmax = 0.15, vmin = -0.2, contours = [-0.1], \n",
    "#                        extent = [x_min.value, x_max.value, y_min.value, y_max.value, z_min.value, z_max.value], name = 'cont00')\n",
    "#cbar = mlab.colorbar(label_fmt=\"%-#.2f\")\n",
    "#cbar.lut_mode = 'jet'\n",
    "#cbar.reverse_lut = True\n",
    "#\n",
    "#cont3d = mlab.contour3d(clamato_plot.field_data, opacity = 0.3, colormap = \"jet\", vmax = 0.15, vmin = -0.2, contours = [-0.0], \n",
    "#                        extent = [x_min.value, x_max.value, y_min.value, y_max.value, z_min.value, z_max.value], name = 'cont01')\n",
    "#cbar = mlab.colorbar(label_fmt=\"%-#.2f\")\n",
    "#cbar.lut_mode = 'jet'\n",
    "#cbar.reverse_lut = True\n",
    "#\n",
    "#cont3d = mlab.contour3d(np.zeros_like(clamato_plot.field_data), opacity = 0.0, colormap = \"jet\", vmax = 0.15, vmin = -0.2, \n",
    "#                        extent = [x_min.value, x_max.value, y_min.value, y_max.value, z_min.value, z_max.value], name = 'cont_bkg')\n",
    "\n",
    "\n",
    "cont3d = mlab.contour3d(clamato_plot.field_data, opacity = 0.3, colormap = \"jet\", vmax = 0.25, vmin = -0.15, contours = [-0.1, 0.0, 0.1], \n",
    "                        extent = [x_min.value, x_max.value, y_min.value, y_max.value, z_min.value, z_max.value], name = 'cont')\n",
    "otl = mlab.outline(cont3d, extent = [3810. , 3900. ,  -17.35665149,   16.95483991, -10.38353398, 18.56887978],  color=(0.2,0.2,0.2), line_width=1, name = 'box')\n",
    "\n",
    "\n",
    "\n",
    "cbar = mlab.colorbar(label_fmt=\"%-#.2f\")\n",
    "cbar.lut_mode = 'jet'\n",
    "cbar.reverse_lut = True\n",
    "\n",
    "#cont3d = mlab.contour3d(clamato_plot.field_data, opacity = 0.3, colormap = \"jet\", vmax = 0.15, vmin = -0.2, contours = [0.1], \n",
    "#                        extent = [x_min.value, x_max.value, y_min.value, y_max.value, z_min.value, z_max.value], name = 'cont02')\n",
    "\n",
    "\n",
    "#for gal in sightline.iloc:\n",
    "#    skewer_ = skewer[skewer['tomo_id'] == gal['TomoID']]\n",
    "#    skewer_ = skewer_[(skewer_['x_new'] < x_max.value) & (skewer_['x_new'] > x_min.value)]\n",
    "#    skewer_ = skewer_[(skewer_['y_new'] < y_max.value) & (skewer_['y_new'] > y_min.value)]\n",
    "#    skewer_ = skewer_[(skewer_['z_new'] < z_max.value) & (skewer_['z_new'] > z_min.value)]\n",
    "#    if len(skewer_) > 0:\n",
    "#        pass\n",
    "#        mlab.points3d(skewer_['x_new'], skewer_['y_new'], skewer_['z_new'], color = (1,1,1), scale_factor = 0.9, mode = 'cylinder', opacity = 0.5)\n",
    "\n",
    "#dummy_cont3d = mlab.contour3d(np.zeros_like(clamato_plot.field_data), opacity = 0,\n",
    "#                        extent = [red_min, red_max, ra_max, ra_min, dec_min, dec_max])\n",
    "\n",
    "mlab.points3d(gal_mem['x'], gal_mem['y'], gal_mem['z'], scale_factor = 1.5, color = (1, 0, 0), name = 'gal_member')\n",
    "mlab.points3d(gal_df_['x'], gal_df_['y'], gal_df_['z'], color = (1, 1, 1), scale_factor = 1, name = 'gal_other')\n",
    "\n",
    "#ax=mlab.axes(cont3d, color=(1,1,1),xlabel='x (Mpc/h)', x_axis_visibility = True, y_axis_visibility = True, z_axis_visibility = True, nb_labels = 11)\n",
    "#ax.axes.label_format='%.1f'\n",
    "\n",
    "labelscale = 1\n",
    "\n",
    "\n",
    "for xtmp in np.arange(x_max.value, x_min.value, -5)[1:]:\n",
    "    sky_coord = mycoord.original_pos(xtmp, y_mean.value, z_mean.value)\n",
    "    xstring = '{0:.3f}'.format(sky_coord.distance.value)    #mlab.text3d(zcom0+(zcom1-zcom0)/2., xtmp,-2, xstring, scale=labelscale, orient_to_camera=False,\n",
    "    #            orientation = np.asarray([0,90.,180.]) )\n",
    "    mlab.text3d(xtmp, y_max.value, z_min.value, xstring, scale=labelscale, orient_to_camera=False,  orientation = np.asarray([180.,90.,90.]))\n",
    "    mlab.text3d(x_mean.value, y_max.value+5, z_min.value, 'Redshift', scale=labelscale, orient_to_camera=False,  orientation = np.asarray([180.,90.,90.]))\n",
    "    \n",
    "for ytmp in np.arange(y_max.value, y_min.value, -5)[1:]:\n",
    "    sky_coord = mycoord.original_pos(x_mean.value, ytmp, z_mean.value)\n",
    "\n",
    "    ystring = '{0:.2f}'.format(sky_coord.ra.value)\n",
    "    #mlab.text3d(zcom0+(zcom1+zcom0)/2., -2,ytmp, ystring, scale=labelscale, orient_to_camera=False,\n",
    "    #            orientation = np.asarray([0,90.,90.]) )\n",
    "    mlab.text3d(x_max.value, ytmp, z_max.value, ystring, scale=labelscale, orient_to_camera=False,  orientation = np.asarray([180.,90.,45.]) )\n",
    "    mlab.text3d(x_max.value, y_mean.value-0.5, z_max.value + 5, 'RA (deg)', scale=labelscale, orient_to_camera=False,  orientation = np.asarray([180.,90.,90.]) )\n",
    "\n",
    "for ztmp in np.arange(z_max.value, z_min.value, -5)[1:]:\n",
    "    sky_coord = mycoord.original_pos(x_mean.value, y_mean.value, ztmp)\n",
    "\n",
    "    zstring = '{0:.2f}'.format(sky_coord.dec.value)\n",
    "    #mlab.text3d(zcom0+(zcom1+zcom0)/2., -2,ytmp, ystring, scale=labelscale, orient_to_camera=False,\n",
    "    #            orientation = np.asarray([0,90.,90.]) )\n",
    "    mlab.text3d(x_max.value, y_max.value, ztmp, zstring, scale=labelscale, orient_to_camera=False, orientation = np.asarray([180.,90.,90.]) )\n",
    "\n",
    "    mlab.text3d(x_max.value, y_max.value + 4, z_mean.value + 2, 'Dec (deg)', scale=labelscale, orient_to_camera=False,  orientation = np.asarray([180.,90.,90.]) )\n",
    "#mlab.view(azimuth=60, elevation=60, distance=150, focalpoint=[gal_mem['x'][0], gal_mem['y'][0], gal_mem['z'][0]])\n",
    "mlab.view(azimuth=30, elevation=75, distance=150, focalpoint=[gal_mem['x'][0], gal_mem['y'][0], gal_mem['z'][0]])\n",
    "#mlab.view(azimuth=60, elevation=60, distance=150, focalpoint=[gal_mem['x'][0], gal_mem['y'][0], gal_mem['z'][0]])\n",
    "\n",
    "mlab.savefig('../interactive/cont3d_cont.x3d')\n",
    "mlab.show()"
   ]
  },
  {
   "cell_type": "code",
   "execution_count": null,
   "metadata": {},
   "outputs": [],
   "source": []
  },
  {
   "cell_type": "code",
   "execution_count": 85,
   "metadata": {},
   "outputs": [],
   "source": [
    "# foe still figure\n",
    "x_min, x_max = 3830*u.Mpc, 3880*u.Mpc\n",
    "\n",
    "clamato_plot = CLAMATO_field.clip_with_coord([x_min, y_min, z_min], [x_max, y_max, z_max])"
   ]
  },
  {
   "cell_type": "code",
   "execution_count": 88,
   "metadata": {},
   "outputs": [
    {
     "name": "stdout",
     "output_type": "stream",
     "text": [
      "2.326\n"
     ]
    }
   ],
   "source": [
    "\n",
    "sky_coord = mycoord.original_pos(x_max.value, y_mean.value, z_mean.value)\n",
    "xstring = '{0:.3f}'.format(sky_coord.distance.value)    #mlab.text3d(zcom0+(zcom1-zcom0)/2., xtmp,-2, xstring, scale=labelscale, orient_to_camera=False,\n",
    "print(xstring)"
   ]
  },
  {
   "cell_type": "code",
   "execution_count": 79,
   "metadata": {},
   "outputs": [
    {
     "name": "stdout",
     "output_type": "stream",
     "text": [
      "Notebook initialized with png backend.\n"
     ]
    }
   ],
   "source": [
    "from mayavi import mlab\n",
    "\n",
    "mlab.clf()\n",
    "\n",
    "viz_type = 'png'  # 'png' or 'x3d' or 'ipy'\n",
    "#mlab.init_notebook('png')\n",
    "mlab.init_notebook(viz_type, local=False)\n",
    "\n",
    "#cont3d = mlab.contour3d(clamato_plot.field_data, opacity = 0.3, colormap = \"jet\", vmax = 0.15, vmin = -0.2, contours = [-0.1], \n",
    "#                        extent = [x_min.value, x_max.value, y_min.value, y_max.value, z_min.value, z_max.value], name = 'cont00')\n",
    "#cbar = mlab.colorbar(label_fmt=\"%-#.2f\")\n",
    "#cbar.lut_mode = 'jet'\n",
    "#cbar.reverse_lut = True\n",
    "#\n",
    "#cont3d = mlab.contour3d(clamato_plot.field_data, opacity = 0.3, colormap = \"jet\", vmax = 0.15, vmin = -0.2, contours = [-0.0], \n",
    "#                        extent = [x_min.value, x_max.value, y_min.value, y_max.value, z_min.value, z_max.value], name = 'cont01')\n",
    "#cbar = mlab.colorbar(label_fmt=\"%-#.2f\")\n",
    "#cbar.lut_mode = 'jet'\n",
    "#cbar.reverse_lut = True\n",
    "#\n",
    "#cont3d = mlab.contour3d(np.zeros_like(clamato_plot.field_data), opacity = 0.0, colormap = \"jet\", vmax = 0.15, vmin = -0.2, \n",
    "#                        extent = [x_min.value, x_max.value, y_min.value, y_max.value, z_min.value, z_max.value], name = 'cont_bkg')\n",
    "\n",
    "\n",
    "cont3d = mlab.contour3d(clamato_plot.field_data, opacity = 0.3, colormap = \"jet\", vmax = 0.25, vmin = -0.15, contours = [-0.1, 0.0, 0.1], \n",
    "                        extent = [x_min.value, x_max.value, y_min.value, y_max.value, z_min.value, z_max.value], name = 'cont')\n",
    "otl = mlab.outline(cont3d, extent = [x_min.value, x_max.value ,  -17.35665149,   16.95483991, -10.38353398, 18.56887978],  color=(0.2,0.2,0.2), line_width=1, name = 'box')\n",
    "\n",
    "\n",
    "\n",
    "cbar = mlab.colorbar(cont3d, label_fmt=\"%-#.2f\")\n",
    "cbar.lut_mode = 'jet'\n",
    "cbar.reverse_lut = True\n",
    "\n",
    "#cont3d = mlab.contour3d(clamato_plot.field_data, opacity = 0.3, colormap = \"jet\", vmax = 0.15, vmin = -0.2, contours = [0.1], \n",
    "#                        extent = [x_min.value, x_max.value, y_min.value, y_max.value, z_min.value, z_max.value], name = 'cont02')\n",
    "\n",
    "\n",
    "#for gal in sightline.iloc:\n",
    "#    skewer_ = skewer[skewer['tomo_id'] == gal['TomoID']]\n",
    "#    skewer_ = skewer_[(skewer_['x_new'] < x_max.value) & (skewer_['x_new'] > x_min.value)]\n",
    "#    skewer_ = skewer_[(skewer_['y_new'] < y_max.value) & (skewer_['y_new'] > y_min.value)]\n",
    "#    skewer_ = skewer_[(skewer_['z_new'] < z_max.value) & (skewer_['z_new'] > z_min.value)]\n",
    "#    if len(skewer_) > 0:\n",
    "#        pass\n",
    "#        mlab.points3d(skewer_['x_new'], skewer_['y_new'], skewer_['z_new'], color = (1,1,1), scale_factor = 0.9, mode = 'cylinder', opacity = 0.5)\n",
    "\n",
    "#dummy_cont3d = mlab.contour3d(np.zeros_like(clamato_plot.field_data), opacity = 0,\n",
    "#                        extent = [red_min, red_max, ra_max, ra_min, dec_min, dec_max])\n",
    "\n",
    "mlab.points3d(gal_mem['x'], gal_mem['y'], gal_mem['z'], scale_factor = 1.5, color = (1, 0, 0), name = 'gal_member')\n",
    "mlab.points3d(gal_df_['x'], gal_df_['y'], gal_df_['z'], color = (1, 1, 1), scale_factor = 1, name = 'gal_other')\n",
    "\n",
    "#ax=mlab.axes(cont3d, color=(1,1,1),xlabel='x (Mpc/h)', x_axis_visibility = True, y_axis_visibility = True, z_axis_visibility = True, nb_labels = 11)\n",
    "#ax.axes.label_format='%.1f'\n",
    "\n",
    "labelscale = 1\n",
    "\n",
    "\n",
    "#for xtmp in np.arange(x_max.value, x_min.value, -5)[1:]:\n",
    "#    sky_coord = mycoord.original_pos(xtmp, y_mean.value, z_mean.value)\n",
    "#    xstring = '{0:.3f}'.format(sky_coord.distance.value)    #mlab.text3d(zcom0+(zcom1-zcom0)/2., xtmp,-2, xstring, scale=labelscale, orient_to_camera=False,\n",
    "#    #            orientation = np.asarray([0,90.,180.]) )\n",
    "#    mlab.text3d(xtmp, y_max.value, z_min.value, xstring, scale=labelscale, orient_to_camera=False,  orientation = np.asarray([180.,90.,90.]))\n",
    "#    mlab.text3d(x_mean.value, y_max.value+5, z_min.value, 'Redshift', scale=labelscale, orient_to_camera=False,  orientation = np.asarray([180.,90.,90.]))\n",
    "    \n",
    "for ytmp in np.arange(y_max.value, y_min.value, -5)[1:]:\n",
    "    sky_coord = mycoord.original_pos(x_mean.value, ytmp, z_mean.value)\n",
    "\n",
    "    ystring = '{0:.2f}'.format(sky_coord.ra.value)\n",
    "    #mlab.text3d(zcom0+(zcom1+zcom0)/2., -2,ytmp, ystring, scale=labelscale, orient_to_camera=False,\n",
    "    #            orientation = np.asarray([0,90.,90.]) )\n",
    "    mlab.text3d(x_max.value, ytmp, z_max.value, ystring, scale=labelscale, orient_to_camera=False,  orientation = np.asarray([180.,90.,45.]) )\n",
    "    mlab.text3d(x_max.value, y_mean.value-0.5, z_max.value + 5, 'RA (deg)', scale=labelscale, orient_to_camera=False,  orientation = np.asarray([180.,90.,90.]) )\n",
    "\n",
    "for ztmp in np.arange(z_max.value, z_min.value, -5)[1:]:\n",
    "    sky_coord = mycoord.original_pos(x_mean.value, y_mean.value, ztmp)\n",
    "\n",
    "    zstring = '{0:.2f}'.format(sky_coord.dec.value)\n",
    "    #mlab.text3d(zcom0+(zcom1+zcom0)/2., -2,ytmp, ystring, scale=labelscale, orient_to_camera=False,\n",
    "    #            orientation = np.asarray([0,90.,90.]) )\n",
    "    mlab.text3d(x_max.value, y_max.value, ztmp, zstring, scale=labelscale, orient_to_camera=False, orientation = np.asarray([180.,90.,90.]) )\n",
    "\n",
    "    mlab.text3d(x_max.value, y_max.value + 4, z_mean.value + 2, 'Dec (deg)', scale=labelscale, orient_to_camera=False,  orientation = np.asarray([180.,90.,90.]) )\n",
    "#mlab.view(azimuth=60, elevation=60, distance=150, focalpoint=[gal_mem['x'][0], gal_mem['y'][0], gal_mem['z'][0]])\n",
    "mlab.view(azimuth=0, elevation=90, distance=90, focalpoint=[gal_mem['x'][0], 5, 5])\n",
    "#mlab.view(azimuth=60, elevation=60, distance=150, focalpoint=[gal_mem['x'][0], gal_mem['y'][0], gal_mem['z'][0]])\n",
    "\n",
    "mlab.savefig('../interactive/cont3d_short_cont.x3d')\n"
   ]
  },
  {
   "cell_type": "code",
   "execution_count": 56,
   "metadata": {},
   "outputs": [
    {
     "name": "stdout",
     "output_type": "stream",
     "text": [
      "\u001b[0;31mType:\u001b[0m            IsoSurface\n",
      "\u001b[0;31mString form:\u001b[0m     <mayavi.modules.iso_surface.IsoSurface object at 0x2c3836e50>\n",
      "\u001b[0;31mFile:\u001b[0m            ~/miniconda3/envs/mayavi/lib/python3.9/site-packages/mayavi/modules/iso_surface.py\n",
      "\u001b[0;31mDocstring:\u001b[0m       <no docstring>\n",
      "\u001b[0;31mClass docstring:\u001b[0m\n",
      "Base class for the Mayavi modules.\n",
      "    \n"
     ]
    }
   ],
   "source": [
    "cont3d?"
   ]
  },
  {
   "cell_type": "code",
   "execution_count": 20,
   "metadata": {},
   "outputs": [
    {
     "name": "stdout",
     "output_type": "stream",
     "text": [
      "\u001b[0;31mSignature:\u001b[0m\n",
      "\u001b[0mmlab\u001b[0m\u001b[0;34m.\u001b[0m\u001b[0mcolorbar\u001b[0m\u001b[0;34m(\u001b[0m\u001b[0;34m\u001b[0m\n",
      "\u001b[0;34m\u001b[0m    \u001b[0mobject\u001b[0m\u001b[0;34m=\u001b[0m\u001b[0;32mNone\u001b[0m\u001b[0;34m,\u001b[0m\u001b[0;34m\u001b[0m\n",
      "\u001b[0;34m\u001b[0m    \u001b[0mtitle\u001b[0m\u001b[0;34m=\u001b[0m\u001b[0;32mNone\u001b[0m\u001b[0;34m,\u001b[0m\u001b[0;34m\u001b[0m\n",
      "\u001b[0;34m\u001b[0m    \u001b[0morientation\u001b[0m\u001b[0;34m=\u001b[0m\u001b[0;32mNone\u001b[0m\u001b[0;34m,\u001b[0m\u001b[0;34m\u001b[0m\n",
      "\u001b[0;34m\u001b[0m    \u001b[0mnb_labels\u001b[0m\u001b[0;34m=\u001b[0m\u001b[0;32mNone\u001b[0m\u001b[0;34m,\u001b[0m\u001b[0;34m\u001b[0m\n",
      "\u001b[0;34m\u001b[0m    \u001b[0mnb_colors\u001b[0m\u001b[0;34m=\u001b[0m\u001b[0;32mNone\u001b[0m\u001b[0;34m,\u001b[0m\u001b[0;34m\u001b[0m\n",
      "\u001b[0;34m\u001b[0m    \u001b[0mlabel_fmt\u001b[0m\u001b[0;34m=\u001b[0m\u001b[0;32mNone\u001b[0m\u001b[0;34m,\u001b[0m\u001b[0;34m\u001b[0m\n",
      "\u001b[0;34m\u001b[0m\u001b[0;34m)\u001b[0m\u001b[0;34m\u001b[0m\u001b[0;34m\u001b[0m\u001b[0m\n",
      "\u001b[0;31mDocstring:\u001b[0m\n",
      "Adds a colorbar for the color mapping of the given object.\n",
      "\n",
      "If the object has scalar data, the scalar color mapping is\n",
      "represented. Elsewhere the vector color mapping is represented, if\n",
      "available.\n",
      "If no object is specified, the first object with a color map in the scene\n",
      "is used.\n",
      "\n",
      "**Keyword arguments**:\n",
      "\n",
      "    :object: Optional object to get the color map from\n",
      "\n",
      "    :title: The title string\n",
      "\n",
      "    :orientation: Can be 'horizontal' or 'vertical'\n",
      "\n",
      "    :nb_labels: The number of labels to display on the colorbar.\n",
      "\n",
      "    :label_fmt: The string formater for the labels. This needs to be\n",
      "                a formater for float number, eg '%.1f'.\n",
      "\n",
      "    :nb_colors: The maximum number of colors displayed on the\n",
      "                colorbar.\n",
      "\u001b[0;31mFile:\u001b[0m      ~/miniconda3/envs/mayavi/lib/python3.9/site-packages/mayavi/tools/decorations.py\n",
      "\u001b[0;31mType:\u001b[0m      function\n"
     ]
    }
   ],
   "source": [
    "    <Viewpoint id=\"obs\" fieldOfView=\"5.23598790168762207e-01\" position=\"3.98317318359943829e+03 7.80317864972799526e+01 3.70345103750007425e+01\" description=\"Default View\" orientation=\"3.31584432764682246e-01 5.74321084547335992e-01 7.48469809539767494e-01 -3.95737995889419869e+00\" centerOfRotation=\"3.85769573803876710e+03 5.58734952559984777e+00 -1.78834639037737020e+00\"/>\n",
    "    <Viewpoint id=\"obso\" fieldOfView=\"5.23598790168762207e-01\" position=\"3.98317318359943829e+03 7.80317864972799526e+01 3.70345103750007425e+01\" description=\"Default View\" orientation=\"3.31584432764682246e-01 5.74321084547335992e-01 7.48469809539767494e-01 -3.95737995889419869e+00\" centerOfRotation=\"3.85769573803876710e+03 5.58734952559984777e+00 -1.78834639037737020e+00\"/>\n",
    "    <Viewpoint id=\"obsx\" fieldOfView=\"5.23598790168762207e-01\" position=\"3.85769573803876710e+03 5.58734952559984777e+00 1.48211653609622630e+02\" description=\"Default View\" orientation=\"0.00000000000000000e+00 0.00000000000000000e+00 1.00000000000000000e+00 -0.00000000000000000e+00\" centerOfRotation=\"3.85769573803876710e+03 5.58734952559984777e+00 -1.78834639037737020e+00\"/>\n",
    "    <Viewpoint id=\"obsy\" fieldOfView=\"5.23598790168762207e-01\" position=\"3.85769573803876710e+03 1.55587349525599848e+02 -1.78834639037736109e+00\" description=\"Default View\" orientation=\"0.00000000000000000e+00 7.07106781186547462e-01 7.07106781186547573e-01 -3.14159265358979312e+00\" centerOfRotation=\"3.85769573803876710e+03 5.58734952559984777e+00 -1.78834639037737020e+00\"/>\n",
    "    <Viewpoint id=\"obsz\" fieldOfView=\"5.23598790168762207e-01\" position=\"4.00769573803876710e+03 5.58734952559984777e+00 -1.78834639037736109e+00\" description=\"Default View\" orientation=\"5.77350269189625842e-01 5.77350269189625953e-01 5.77350269189625620e-01 -4.18879020478639053e+00\" centerOfRotation=\"3.85769573803876710e+03 5.58734952559984777e+00 -1.78834639037737020e+00\"/>"
   ]
  },
  {
   "cell_type": "markdown",
   "metadata": {},
   "source": [
    "# what to present in the 3d viz?\n",
    "# 1. delta_F field -> mlab.contour3d\n",
    "# 2. pc members -> mlab.points3d\n",
    "# 3. sightline skewers -> mlab.plot3d"
   ]
  }
 ],
 "metadata": {
  "kernelspec": {
   "display_name": "Python 3.9.15 ('mayavi')",
   "language": "python",
   "name": "python3"
  },
  "language_info": {
   "codemirror_mode": {
    "name": "ipython",
    "version": 3
   },
   "file_extension": ".py",
   "mimetype": "text/x-python",
   "name": "python",
   "nbconvert_exporter": "python",
   "pygments_lexer": "ipython3",
   "version": "3.9.15 | packaged by conda-forge | (main, Nov 22 2022, 08:48:25) \n[Clang 14.0.6 ]"
  },
  "orig_nbformat": 4,
  "vscode": {
   "interpreter": {
    "hash": "ebc27657cd59d4418bc955a5937f8b7fa38b568271be1ce6b956437889f82f5f"
   }
  }
 },
 "nbformat": 4,
 "nbformat_minor": 2
}
